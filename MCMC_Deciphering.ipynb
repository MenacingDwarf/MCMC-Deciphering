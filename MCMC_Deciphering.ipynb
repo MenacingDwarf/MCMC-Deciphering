{
 "cells": [
  {
   "cell_type": "code",
   "execution_count": 1,
   "id": "7ba37a80",
   "metadata": {},
   "outputs": [],
   "source": [
    "from MCMCDeciphrator import MCMCDeciphrator"
   ]
  },
  {
   "cell_type": "markdown",
   "id": "5cb94967",
   "metadata": {},
   "source": [
    "# Corpus downloading and statistics counting"
   ]
  },
  {
   "cell_type": "code",
   "execution_count": 2,
   "id": "2bacdb81",
   "metadata": {},
   "outputs": [
    {
     "name": "stdout",
     "output_type": "stream",
     "text": [
      "Amount of symbols: 34\n"
     ]
    }
   ],
   "source": [
    "deciphrator = MCMCDeciphrator()\n",
    "print(f'Amount of symbols: {len(deciphrator.chars_dict)}')"
   ]
  },
  {
   "cell_type": "code",
   "execution_count": 4,
   "id": "8615bb7e",
   "metadata": {},
   "outputs": [
    {
     "name": "stderr",
     "output_type": "stream",
     "text": [
      "WARNING:root:Template errors in article 'Википедия:Форум/Архив/Старый/2006-02-15' (8554): title(1) recursion(0, 0, 0)\n",
      "WARNING:root:Template errors in article 'PNG' (11083): title(1) recursion(0, 0, 0)\n",
      "WARNING:root:Template errors in article 'Википедия:Механизм шаблонов' (32223): title(3) recursion(0, 0, 0)\n",
      "WARNING:root:Template errors in article 'Ряд Тейлора' (104670): title(4) recursion(0, 0, 0)\n",
      "WARNING:root:Template errors in article 'Википедия:Форум/Архив/Старый/2005-11-27' (105068): title(1) recursion(0, 0, 0)\n",
      "WARNING:root:Template errors in article 'Википедия:Форум/Архив/Старый/2006-01-08' (129612): title(1) recursion(0, 0, 0)\n",
      "WARNING:root:Template errors in article 'Радикальный признак Коши' (138416): title(2) recursion(0, 0, 0)\n",
      "WARNING:root:Template errors in article 'Вейвлет-преобразование' (170295): title(1) recursion(0, 0, 0)\n",
      "WARNING:root:Template errors in article 'Википедия:Форум/Архив/Правила/Январь - март 2006' (197589): title(1) recursion(0, 0, 0)\n",
      "WARNING:root:Template errors in article 'Блок (программирование)' (224130): title(13) recursion(0, 0, 0)\n"
     ]
    },
    {
     "name": "stdout",
     "output_type": "stream",
     "text": [
      "Wall time: 8min 2s\n"
     ]
    }
   ],
   "source": [
    "%%time\n",
    "deciphrator.collect_corpus('corus/ruwiki-latest-pages-articles.xml.bz2')"
   ]
  },
  {
   "cell_type": "markdown",
   "id": "e6518b86",
   "metadata": {},
   "source": [
    "# Message deciphering"
   ]
  },
  {
   "cell_type": "code",
   "execution_count": 5,
   "id": "c159bdba",
   "metadata": {},
   "outputs": [
    {
     "name": "stdout",
     "output_type": "stream",
     "text": [
      "31\n",
      "щдшэсздбгдтиылъирдвсдпирвясндждягфгдогъзд бгдсынъьисздегясздргсдовяг биъьисзднтдбнёдщдыифвсиадшсвдсвдтиыифислоиадмвжэмиадориъгаджижд бгдмыгъясиорщрвяздбгжвсвывцдявфясогббвясзадндодыгтэрзсисгдвънбдшг въибдмыншг дъвоврзбвдяжыв бвхвдыит гыидолёвънсдщдбнюнцджиждпгдусвдмврэшнрвяз\n"
     ]
    }
   ],
   "source": [
    "message = 'щдшэсздбгдтиылъирдвсдпирвясндждягфгдогъзд бгдсынъьисздегясздргсдовяг биъьисзднтдбнёдщдыифвсиадшсвдсвдтиыифислоиадмвжэмиадориъгаджижд бгдмыгъясиорщрвяздбгжвсвывцдявфясогббвясзадндодыгтэрзсисгдвънбдшг въибдмыншг дъвоврзбвдяжыв бвхвдыит гыидолёвънсдщдбнюнцджиждпгдусвдмврэшнрвяз'\n",
    "print(len(set(message)))\n",
    "print(message)"
   ]
  },
  {
   "cell_type": "code",
   "execution_count": 10,
   "id": "a722aa0e",
   "metadata": {},
   "outputs": [
    {
     "name": "stdout",
     "output_type": "stream",
     "text": [
      "Wall time: 15.6 s\n"
     ]
    },
    {
     "data": {
      "text/plain": [
       "('ю чуть не зарымал от шалости к себе вемь дне тримфать жесть лет воседнамфать из них ю работая что то зарабатывая покупая вламея как дне премставлюлось некоторой собственностья и в результате омин чедоман причед мовольно скродного раздера выхомит ю ниций как ше это получилось',\n",
       " -686.2558811577172,\n",
       " 49998)"
      ]
     },
     "execution_count": 10,
     "metadata": {},
     "output_type": "execute_result"
    }
   ],
   "source": [
    "%%time\n",
    "deciphrator.decipher_message(message, 50000)"
   ]
  },
  {
   "cell_type": "markdown",
   "id": "96a8a34f",
   "metadata": {},
   "source": [
    "# Deciphering result"
   ]
  },
  {
   "cell_type": "markdown",
   "id": "d55f7fa7",
   "metadata": {},
   "source": [
    "The result is not perfect, but the message is readable. The message contains a quote from the Sergei Dovlatov's book:\n",
    "\n",
    "**Я чуть не зарыдал от жалости к себе. Ведь мне тридцать шесть лет. Восемнадцать из них я работаю. Что-то зарабатываю, покупаю. Владею, как мне представлялось, некоторой собственностью. И в результате – один чемодан. Причем довольно скромного размера. Выходит, я нищий? Как же это получилось?!**\n",
    "\n",
    "Let's look at the probability of a correct quote:"
   ]
  },
  {
   "cell_type": "code",
   "execution_count": 13,
   "id": "bcd59392",
   "metadata": {},
   "outputs": [
    {
     "data": {
      "text/plain": [
       "-693.8803214136873"
      ]
     },
     "execution_count": 13,
     "metadata": {},
     "output_type": "execute_result"
    }
   ],
   "source": [
    "deciphrator.get_message_probability(\"я чуть не зарыдал от жалости к себе ведь мне тридцать шесть лет восемнадцать из них я работаю что то зарабатываю покупаю владею как мне представлялось некоторой собственностью и в результате один чемодан причем довольно скромного размера выходит я нищий как же это получилось\")"
   ]
  }
 ],
 "metadata": {
  "kernelspec": {
   "display_name": "Python 3 (ipykernel)",
   "language": "python",
   "name": "python3"
  },
  "language_info": {
   "codemirror_mode": {
    "name": "ipython",
    "version": 3
   },
   "file_extension": ".py",
   "mimetype": "text/x-python",
   "name": "python",
   "nbconvert_exporter": "python",
   "pygments_lexer": "ipython3",
   "version": "3.9.7"
  }
 },
 "nbformat": 4,
 "nbformat_minor": 5
}
